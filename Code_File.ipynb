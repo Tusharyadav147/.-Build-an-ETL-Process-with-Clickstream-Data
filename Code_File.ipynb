{
  "cells": [
    {
      "cell_type": "code",
      "execution_count": null,
      "metadata": {
        "colab": {
          "base_uri": "https://localhost:8080/"
        },
        "id": "knxeaJs5HWqq",
        "outputId": "4c9e35e8-0700-4fd0-92f6-981f31c2c911"
      },
      "outputs": [
        {
          "name": "stdout",
          "output_type": "stream",
          "text": [
            "Drive already mounted at /content/drive; to attempt to forcibly remount, call drive.mount(\"/content/drive\", force_remount=True).\n"
          ]
        }
      ],
      "source": [
        "# Connect to drive\n",
        "from google.colab import drive\n",
        "drive.mount(\"/content/drive\")"
      ]
    },
    {
      "cell_type": "code",
      "execution_count": null,
      "metadata": {
        "colab": {
          "base_uri": "https://localhost:8080/"
        },
        "id": "THaMXPATQ-0M",
        "outputId": "753177ae-8b08-4898-d976-89ebf3e716ac"
      },
      "outputs": [
        {
          "name": "stdout",
          "output_type": "stream",
          "text": [
            "Traceback (most recent call last):\n",
            "  File \"/usr/local/bin/pip3\", line 5, in <module>\n",
            "    from pip._internal.cli.main import main\n",
            "  File \"/usr/local/lib/python3.7/dist-packages/pip/_internal/cli/main.py\", line 9, in <module>\n",
            "    from pip._internal.cli.autocompletion import autocomplete\n",
            "  File \"/usr/local/lib/python3.7/dist-packages/pip/_internal/cli/autocompletion.py\", line 10, in <module>\n",
            "  File \"/usr/local/lib/python3.7/dist-packages/pip/_internal/cli/main_parser.py\", line 8, in <module>\n",
            "    from pip._internal.cli import cmdoptions\n",
            "  File \"/usr/local/lib/python3.7/dist-packages/pip/_internal/cli/cmdoptions.py\", line 21, in <module>\n",
            "    from pip._vendor.packaging.utils import canonicalize_name\n",
            "  File \"/usr/local/lib/python3.7/dist-packages/pip/_vendor/__init__.py\", line 10, in <module>\n",
            "    import glob\n",
            "  File \"/usr/lib/python3.7/glob.py\", line 5, in <module>\n",
            "    import fnmatch\n",
            "  File \"<frozen importlib._bootstrap>\", line 983, in _find_and_load\n",
            "  File \"<frozen importlib._bootstrap>\", line 967, in _find_and_load_unlocked\n",
            "  File \"<frozen importlib._bootstrap>\", line 677, in _load_unlocked\n",
            "  File \"<frozen importlib._bootstrap_external>\", line 724, in exec_module\n",
            "  File \"<frozen importlib._bootstrap_external>\", line 857, in get_code\n",
            "  File \"<frozen importlib._bootstrap_external>\", line 525, in _compile_bytecode\n",
            "KeyboardInterrupt\n"
          ]
        }
      ],
      "source": [
        "pip install pyspark"
      ]
    },
    {
      "cell_type": "code",
      "execution_count": 1,
      "metadata": {
        "id": "0-dAJOpnrRTE"
      },
      "outputs": [],
      "source": [
        "from pyspark.sql.functions import *\n",
        "from pyspark.sql import SparkSession\n",
        "import numpy as np"
      ]
    },
    {
      "cell_type": "code",
      "execution_count": 2,
      "metadata": {},
      "outputs": [],
      "source": [
        "s3_clickstream_path = \"jobathon_click_data.json\"\n",
        "s3_login_path = \"jobathon_login_data.csv\""
      ]
    },
    {
      "cell_type": "code",
      "execution_count": 3,
      "metadata": {
        "colab": {
          "base_uri": "https://localhost:8080/",
          "height": 345
        },
        "id": "wREmKHOdHjKI",
        "outputId": "45f63b97-7ab3-4aba-ed39-5eed4d3b8804"
      },
      "outputs": [
        {
          "ename": "KeyboardInterrupt",
          "evalue": "",
          "output_type": "error",
          "traceback": [
            "\u001b[1;31m---------------------------------------------------------------------------\u001b[0m",
            "\u001b[1;31mKeyboardInterrupt\u001b[0m                         Traceback (most recent call last)",
            "\u001b[1;32me:\\Tushar Programs\\Analytical Vidhya\\jobathon_sample_data\\Analytical_Vidhya_Assignment.ipynb Cell 5\u001b[0m in \u001b[0;36m<cell line: 40>\u001b[1;34m()\u001b[0m\n\u001b[0;32m     <a href='vscode-notebook-cell:/e%3A/Tushar%20Programs/Analytical%20Vidhya/jobathon_sample_data/Analytical_Vidhya_Assignment.ipynb#W3sZmlsZQ%3D%3D?line=35'>36</a>\u001b[0m     df_result \u001b[39m=\u001b[39m spark\u001b[39m.\u001b[39msql(\u001b[39m\"\u001b[39m\u001b[39mselect * from df_union_tbl\u001b[39m\u001b[39m\"\u001b[39m)\n\u001b[0;32m     <a href='vscode-notebook-cell:/e%3A/Tushar%20Programs/Analytical%20Vidhya/jobathon_sample_data/Analytical_Vidhya_Assignment.ipynb#W3sZmlsZQ%3D%3D?line=37'>38</a>\u001b[0m     \u001b[39mreturn\u001b[39;00m df_result\n\u001b[1;32m---> <a href='vscode-notebook-cell:/e%3A/Tushar%20Programs/Analytical%20Vidhya/jobathon_sample_data/Analytical_Vidhya_Assignment.ipynb#W3sZmlsZQ%3D%3D?line=39'>40</a>\u001b[0m session \u001b[39m=\u001b[39m SparkSession\u001b[39m.\u001b[39;49mbuilder\u001b[39m.\u001b[39;49mappName(\u001b[39m\"\u001b[39;49m\u001b[39mfirstsql\u001b[39;49m\u001b[39m\"\u001b[39;49m)\u001b[39m.\u001b[39;49mmaster(\u001b[39m\"\u001b[39;49m\u001b[39mlocal\u001b[39;49m\u001b[39m\"\u001b[39;49m)\u001b[39m.\u001b[39;49mgetOrCreate()\n\u001b[0;32m     <a href='vscode-notebook-cell:/e%3A/Tushar%20Programs/Analytical%20Vidhya/jobathon_sample_data/Analytical_Vidhya_Assignment.ipynb#W3sZmlsZQ%3D%3D?line=40'>41</a>\u001b[0m sample_function(session, s3_clickstream_path, s3_login_path)\u001b[39m.\u001b[39mcount()\n",
            "File \u001b[1;32m~\\AppData\\Roaming\\Python\\Python39\\site-packages\\pyspark\\sql\\session.py:228\u001b[0m, in \u001b[0;36mSparkSession.Builder.getOrCreate\u001b[1;34m(self)\u001b[0m\n\u001b[0;32m    226\u001b[0m         sparkConf\u001b[39m.\u001b[39mset(key, value)\n\u001b[0;32m    227\u001b[0m     \u001b[39m# This SparkContext may be an existing one.\u001b[39;00m\n\u001b[1;32m--> 228\u001b[0m     sc \u001b[39m=\u001b[39m SparkContext\u001b[39m.\u001b[39;49mgetOrCreate(sparkConf)\n\u001b[0;32m    229\u001b[0m \u001b[39m# Do not update `SparkConf` for existing `SparkContext`, as it's shared\u001b[39;00m\n\u001b[0;32m    230\u001b[0m \u001b[39m# by all sessions.\u001b[39;00m\n\u001b[0;32m    231\u001b[0m session \u001b[39m=\u001b[39m SparkSession(sc)\n",
            "File \u001b[1;32m~\\AppData\\Roaming\\Python\\Python39\\site-packages\\pyspark\\context.py:392\u001b[0m, in \u001b[0;36mSparkContext.getOrCreate\u001b[1;34m(cls, conf)\u001b[0m\n\u001b[0;32m    390\u001b[0m \u001b[39mwith\u001b[39;00m SparkContext\u001b[39m.\u001b[39m_lock:\n\u001b[0;32m    391\u001b[0m     \u001b[39mif\u001b[39;00m SparkContext\u001b[39m.\u001b[39m_active_spark_context \u001b[39mis\u001b[39;00m \u001b[39mNone\u001b[39;00m:\n\u001b[1;32m--> 392\u001b[0m         SparkContext(conf\u001b[39m=\u001b[39;49mconf \u001b[39mor\u001b[39;49;00m SparkConf())\n\u001b[0;32m    393\u001b[0m     \u001b[39mreturn\u001b[39;00m SparkContext\u001b[39m.\u001b[39m_active_spark_context\n",
            "File \u001b[1;32m~\\AppData\\Roaming\\Python\\Python39\\site-packages\\pyspark\\context.py:144\u001b[0m, in \u001b[0;36mSparkContext.__init__\u001b[1;34m(self, master, appName, sparkHome, pyFiles, environment, batchSize, serializer, conf, gateway, jsc, profiler_cls)\u001b[0m\n\u001b[0;32m    139\u001b[0m \u001b[39mif\u001b[39;00m gateway \u001b[39mis\u001b[39;00m \u001b[39mnot\u001b[39;00m \u001b[39mNone\u001b[39;00m \u001b[39mand\u001b[39;00m gateway\u001b[39m.\u001b[39mgateway_parameters\u001b[39m.\u001b[39mauth_token \u001b[39mis\u001b[39;00m \u001b[39mNone\u001b[39;00m:\n\u001b[0;32m    140\u001b[0m     \u001b[39mraise\u001b[39;00m \u001b[39mValueError\u001b[39;00m(\n\u001b[0;32m    141\u001b[0m         \u001b[39m\"\u001b[39m\u001b[39mYou are trying to pass an insecure Py4j gateway to Spark. This\u001b[39m\u001b[39m\"\u001b[39m\n\u001b[0;32m    142\u001b[0m         \u001b[39m\"\u001b[39m\u001b[39m is not allowed as it is a security risk.\u001b[39m\u001b[39m\"\u001b[39m)\n\u001b[1;32m--> 144\u001b[0m SparkContext\u001b[39m.\u001b[39;49m_ensure_initialized(\u001b[39mself\u001b[39;49m, gateway\u001b[39m=\u001b[39;49mgateway, conf\u001b[39m=\u001b[39;49mconf)\n\u001b[0;32m    145\u001b[0m \u001b[39mtry\u001b[39;00m:\n\u001b[0;32m    146\u001b[0m     \u001b[39mself\u001b[39m\u001b[39m.\u001b[39m_do_init(master, appName, sparkHome, pyFiles, environment, batchSize, serializer,\n\u001b[0;32m    147\u001b[0m                   conf, jsc, profiler_cls)\n",
            "File \u001b[1;32m~\\AppData\\Roaming\\Python\\Python39\\site-packages\\pyspark\\context.py:339\u001b[0m, in \u001b[0;36mSparkContext._ensure_initialized\u001b[1;34m(cls, instance, gateway, conf)\u001b[0m\n\u001b[0;32m    337\u001b[0m \u001b[39mwith\u001b[39;00m SparkContext\u001b[39m.\u001b[39m_lock:\n\u001b[0;32m    338\u001b[0m     \u001b[39mif\u001b[39;00m \u001b[39mnot\u001b[39;00m SparkContext\u001b[39m.\u001b[39m_gateway:\n\u001b[1;32m--> 339\u001b[0m         SparkContext\u001b[39m.\u001b[39m_gateway \u001b[39m=\u001b[39m gateway \u001b[39mor\u001b[39;00m launch_gateway(conf)\n\u001b[0;32m    340\u001b[0m         SparkContext\u001b[39m.\u001b[39m_jvm \u001b[39m=\u001b[39m SparkContext\u001b[39m.\u001b[39m_gateway\u001b[39m.\u001b[39mjvm\n\u001b[0;32m    342\u001b[0m     \u001b[39mif\u001b[39;00m instance:\n",
            "File \u001b[1;32m~\\AppData\\Roaming\\Python\\Python39\\site-packages\\pyspark\\java_gateway.py:105\u001b[0m, in \u001b[0;36mlaunch_gateway\u001b[1;34m(conf, popen_kwargs)\u001b[0m\n\u001b[0;32m    103\u001b[0m \u001b[39m# Wait for the file to appear, or for the process to exit, whichever happens first.\u001b[39;00m\n\u001b[0;32m    104\u001b[0m \u001b[39mwhile\u001b[39;00m \u001b[39mnot\u001b[39;00m proc\u001b[39m.\u001b[39mpoll() \u001b[39mand\u001b[39;00m \u001b[39mnot\u001b[39;00m os\u001b[39m.\u001b[39mpath\u001b[39m.\u001b[39misfile(conn_info_file):\n\u001b[1;32m--> 105\u001b[0m     time\u001b[39m.\u001b[39;49msleep(\u001b[39m0.1\u001b[39;49m)\n\u001b[0;32m    107\u001b[0m \u001b[39mif\u001b[39;00m \u001b[39mnot\u001b[39;00m os\u001b[39m.\u001b[39mpath\u001b[39m.\u001b[39misfile(conn_info_file):\n\u001b[0;32m    108\u001b[0m     \u001b[39mraise\u001b[39;00m \u001b[39mRuntimeError\u001b[39;00m(\u001b[39m\"\u001b[39m\u001b[39mJava gateway process exited before sending its port number\u001b[39m\u001b[39m\"\u001b[39m)\n",
            "\u001b[1;31mKeyboardInterrupt\u001b[0m: "
          ]
        }
      ],
      "source": [
        "# Import libraries\n",
        "# Your code goes inside this function\n",
        "# Function input - spark object, click data path, resolved data path\n",
        "# Function output - final spark dataframe\n",
        "def sample_function(spark, s3_clickstream_path, s3_login_path):\n",
        "    df_clickstream =  spark.read.format(\"json\").load(s3_clickstream_path)\n",
        "    user_mapping =  spark.read.format(\"csv\").option(\"header\",True).load(s3_login_path)\n",
        "\n",
        "    df_clickstream = df_clickstream.withColumn(\"current_page_url\", col(\"client_side_data.current_page_url\"))\n",
        "\n",
        "    table = df_clickstream.join(user_mapping, (user_mapping[\"session_id\"] == df_clickstream[\"session_id\"])&(to_date(user_mapping[\"login_date_time\"])== to_date(df_clickstream[\"event_date_time\"])), \"left\").drop(user_mapping[\"session_id\"])\n",
        "    table = table.fillna(\"unregistered\", subset=[\"user_id\"])\n",
        "    table = table.withColumn(\"current_date\", substring(col(\"event_date_time\"),1,10))\n",
        "    table = table.withColumn(\"login_date\", to_date(\"login_date_time\"))\n",
        "    table = table.withColumn(\"logged_in\", when(table[\"user_id\"] == \"unregistered\", 0).otherwise(1))\n",
        "    table = table.withColumn(\"Click\", when(table[\"event_type\"] == \"click\", 1).otherwise(0))\n",
        "    table = table.withColumn(\"Pageload\", when(table[\"event_type\"] == \"pageload\", 1).otherwise(0))\n",
        "\n",
        "    url = table.groupBy(\"current_date\", \"user_id\", \"session_id\", \"browser_id\").agg(min(to_timestamp(\"event_date_time\")).alias(\"login\"))\n",
        "    url = url.join(table.select(\"event_date_time\",\"current_page_url\"), ((url[\"login\"] == table[\"event_date_time\"]) &(url[\"user_id\"]== table[\"user_id\"]) &(url[\"session_id\"] == table[\"session_id\"]) &(url[\"browser_id\"]==table[\"browser_id\"])), \"left\")\n",
        "    url = url.withColumnRenamed(\"current_page_url\", \"first_url\")\n",
        "   \n",
        "    table = table.join(url,((table[\"current_date\"] == url[\"Current_date\"])& (table[\"user_id\"]== url[\"user_id\"])&(url[\"session_id\"]== table[\"session_id\"])&(url[\"browser_id\"]==table[\"browser_id\"])), \"left\").drop(url[\"current_date\"]).drop(url[\"user_id\"]).drop(url[\"event_date_time\"]).drop(url[\"session_id\"]).drop(url[\"browser_id\"]).drop(url[\"logged_in\"])\n",
        "\n",
        "    grouped = table.groupBy(\"current_date\",\"browser_id\",\"user_id\",\"logged_in\",\"first_url\").agg(sum(table[\"Click\"]).alias(\"number_of_clicks\"), sum(table[\"Pageload\"]).alias(\"number_of_pageloads\"))\n",
        "    # grouped = grouped.filter((grouped[\"number_of_clicks\"] >0) | (grouped[\"user_id\"] != \"unregistered\"))\n",
        "    # grouped = grouped.join(url, ((url[\"current_date\"] == grouped[\"current_date\"]) & (url[\"user_id\"] == grouped[\"user_id\"])), \"left\").drop(url[\"current_date\"]).drop(url[\"login\"]).drop(url[\"event_date_time\"]).drop(url[\"user_id\"])\n",
        "    # grouped = grouped.withColumnRenamed(\"current_page_url\", \"first_url\")\n",
        "    grouped = grouped.replace(\"unregistered\",None, subset= [\"user_id\"])\n",
        "    grouped = grouped.withColumn(\"current_date\", col(\"current_date\").cast(\"string\")).withColumn(\"logged_in\", col(\"logged_in\").cast(\"string\")).withColumn(\"number_of_clicks\",col(\"number_of_clicks\").cast(\"string\")).withColumn(\"number_of_pageloads\", col(\"number_of_pageloads\").cast(\"string\"))\n",
        "\n",
        "    df_union = grouped.select(\"current_date\",\"browser_id\",\"user_id\",\"logged_in\",\"first_url\",\"number_of_clicks\",\"number_of_pageloads\")\n",
        "    \n",
        "    df_union.createOrReplaceTempView(\"df_union_tbl\")\n",
        "    \n",
        "    df_result = spark.sql(\"select * from df_union_tbl\")\n",
        "\t\t\n",
        "    return df_result\n",
        "\n",
        "session = SparkSession.builder.appName(\"firstsql\").master(\"local\").getOrCreate()\n",
        "sample_function(session, s3_clickstream_path, s3_login_path).count()"
      ]
    },
    {
      "cell_type": "code",
      "execution_count": null,
      "metadata": {
        "id": "LMyR_McCNqZo"
      },
      "outputs": [],
      "source": [
        "session = SparkSession.builder.appName(\"firstsql\").master(\"local\").getOrCreate()\n",
        "readdata = session.read"
      ]
    },
    {
      "cell_type": "code",
      "execution_count": null,
      "metadata": {
        "id": "cH3zXL4XRcPB"
      },
      "outputs": [],
      "source": [
        "login_data = readdata.option(\"header\", True).option(\"inferSchema\", True).csv(\"jobathon_login_data.csv\")"
      ]
    },
    {
      "cell_type": "code",
      "execution_count": null,
      "metadata": {
        "id": "FnzG0eQfRw6z"
      },
      "outputs": [],
      "source": [
        "click_data = readdata.option(\"header\", True).option(\"inferSchema\", True).json(\"jobathon_click_data.json\")"
      ]
    },
    {
      "cell_type": "code",
      "execution_count": null,
      "metadata": {
        "colab": {
          "base_uri": "https://localhost:8080/"
        },
        "id": "1XQJDY5E0P_t",
        "outputId": "7440f1b0-58f1-49c1-b6eb-a3dc6ee93520"
      },
      "outputs": [
        {
          "name": "stdout",
          "output_type": "stream",
          "text": [
            "root\n",
            " |-- login_date_time: timestamp (nullable = true)\n",
            " |-- session_id: string (nullable = true)\n",
            " |-- user_id: string (nullable = true)\n",
            "\n"
          ]
        }
      ],
      "source": [
        "login_data.printSchema()"
      ]
    },
    {
      "cell_type": "code",
      "execution_count": null,
      "metadata": {
        "id": "Skl4dyEASsyd"
      },
      "outputs": [],
      "source": [
        "click_data = click_data.withColumn(\"current_page_url\", col(\"client_side_data.current_page_url\"))\n",
        "click_data = click_data.withColumn(\"time_elapsed\", col(\"client_side_data.time_elapsed\"))"
      ]
    },
    {
      "cell_type": "code",
      "execution_count": null,
      "metadata": {
        "id": "JQuY1d6pW3hk"
      },
      "outputs": [],
      "source": [
        "table = click_data.join(login_data, login_data[\"session_id\"] == click_data[\"session_id\"], \"left\").drop(login_data[\"session_id\"])"
      ]
    },
    {
      "cell_type": "code",
      "execution_count": null,
      "metadata": {
        "id": "RfXvhVxb5TLs"
      },
      "outputs": [],
      "source": [
        "table = table.fillna(\"unregistered\", subset=[\"user_id\"])"
      ]
    },
    {
      "cell_type": "code",
      "execution_count": null,
      "metadata": {
        "id": "M8r0ztVKXnVA"
      },
      "outputs": [],
      "source": [
        "table = table.withColumn(\"Current_date\", to_date(\"event_date_time\"))\n",
        "table = table.withColumn(\"login_date\", to_date(\"login_date_time\"))"
      ]
    },
    {
      "cell_type": "code",
      "execution_count": null,
      "metadata": {
        "id": "TbGg2UlfzPTj"
      },
      "outputs": [],
      "source": [
        "table = table.withColumn(\"logged_in\", when(table[\"user_id\"] == table[\"Current_date\"], 1).otherwise(0))"
      ]
    },
    {
      "cell_type": "code",
      "execution_count": null,
      "metadata": {
        "id": "awxyWvn72AXr"
      },
      "outputs": [],
      "source": [
        "table = table.withColumn(\"Click\", when(table[\"event_type\"] == \"click\", 1).otherwise(0))\n",
        "table = table.withColumn(\"Pageload\", when(table[\"event_type\"] == \"pageload\", 1).otherwise(0))"
      ]
    },
    {
      "cell_type": "code",
      "execution_count": null,
      "metadata": {
        "colab": {
          "base_uri": "https://localhost:8080/"
        },
        "id": "7pX1lJJguhXa",
        "outputId": "b212423d-bce8-4696-ccf5-f3097372e1d2"
      },
      "outputs": [
        {
          "name": "stdout",
          "output_type": "stream",
          "text": [
            "+------------+------------+--------------------+--------------------+--------------------+\n",
            "|Current_date|     user_id|          session_id|          browser_id|               login|\n",
            "+------------+------------+--------------------+--------------------+--------------------+\n",
            "|  2022-07-31|unregistered|EHDMvuQhE4H41ACxt...|Cms7xSIlU0pMBTMfR...|2022-07-31 04:30:...|\n",
            "|  2022-07-31|unregistered|fM3e0bR1bsJaDssK3...|2N5Es6i1a1LuD4P1L...|2022-07-31 05:43:...|\n",
            "|  2022-07-31|unregistered|Sgutf1dUl8dtPDTlw...|0ThrrpKVyk273B97M...|2022-07-31 09:17:...|\n",
            "|  2022-07-31|unregistered|lKRh64hO1mAnK8bPH...|e39p9hf5aQW3ucqYs...|2022-07-31 10:39:...|\n",
            "|  2022-07-31|unregistered|5XsVn8f03aU4pQQ8R...|OV97rA995d4edUEHm...|2022-07-31 02:59:...|\n",
            "|  2022-07-31|unregistered|Lv2IuSFAoabPMEFgF...|xNZcJpYguHy7NWX2e...|2022-07-31 18:36:...|\n",
            "|  2022-08-01|unregistered|wkJyZEAMXNKSqF4Sl...|jNhY7j8Z68RJt7Wtk...|2022-08-01 02:55:...|\n",
            "|  2022-08-01|unregistered|FylH6umDqwegxEUJN...|xJDnFXsAegQb7jqL3...|2022-08-01 10:34:...|\n",
            "|  2022-08-01|unregistered|o4hXhXOgAeu8vpuEp...|s8gWvHiFyiX4xWhw7...|2022-08-01 14:45:...|\n",
            "|  2022-08-01|  1400001815|nGuU72gIiV07e8LOI...|3w8NUHoY3V1fwqjDq...|2022-08-01 13:40:...|\n",
            "|  2022-08-01|unregistered|JHvWyxoGBFiZgHtCn...|EY3TgBfZPgY6LoEKu...|2022-08-01 17:03:...|\n",
            "|  2022-08-01|unregistered|L026e69ngqSq3FeyM...|h86E4D57QsRWW0B32...|2022-08-01 19:22:...|\n",
            "|  2022-08-01|unregistered|Ls1QmJA0OffREAhuG...|ZvZmVhOce3XZaLRKb...|2022-08-01 23:30:...|\n",
            "|  2022-08-02|unregistered|d7TLINzDYqpkSGPzd...|8MGnIrG3B5nZgrlyA...|2022-08-02 04:08:...|\n",
            "|  2022-08-02|unregistered|hxzIUHRBoGlmip8fV...|5j2Mj161EG5D0RelI...|2022-08-02 05:44:...|\n",
            "|  2022-08-02|unregistered|rElQ3P2wzArn39syP...|5As6U36b6is2Psh2e...|2022-08-02 07:11:...|\n",
            "|  2022-08-02|unregistered|fuJDNTrvf3pYhdqtr...|T5ToYc4SOedzAU232...|2022-08-02 08:37:...|\n",
            "|  2022-08-02|unregistered|KFvBOVNC2vq9Oec8R...|ZAkZsJKghteEeBGWO...|2022-08-02 13:20:...|\n",
            "|  2022-08-02|unregistered|u16aAIfnJ19CHLVo0...|gAXvSC1ojChSNOf1R...|2022-08-02 13:36:...|\n",
            "|  2022-08-02|unregistered|SLzXeRwJKzXQzSMub...|KddBSwENZ5d4XQdv5...|2022-08-02 22:54:...|\n",
            "+------------+------------+--------------------+--------------------+--------------------+\n",
            "only showing top 20 rows\n",
            "\n"
          ]
        }
      ],
      "source": [
        "url = table.groupBy(\"Current_date\", \"user_id\",\"session_id\", \"browser_id\").agg(min(to_timestamp(\"event_date_time\")).alias(\"login\"))\n",
        "url.show()"
      ]
    },
    {
      "cell_type": "code",
      "execution_count": null,
      "metadata": {
        "colab": {
          "base_uri": "https://localhost:8080/"
        },
        "id": "8xzY5l7bzu6I",
        "outputId": "5947e239-47f4-4620-99f0-30f18d8f5fab"
      },
      "outputs": [
        {
          "data": {
            "text/plain": [
              "305456"
            ]
          },
          "execution_count": 44,
          "metadata": {},
          "output_type": "execute_result"
        }
      ],
      "source": [
        "url.count()"
      ]
    },
    {
      "cell_type": "code",
      "execution_count": null,
      "metadata": {
        "id": "okWX65Hw1rLa"
      },
      "outputs": [],
      "source": [
        "url = url.join(table.select(\"event_date_time\",\"current_page_url\"), ((url[\"login\"] == table[\"event_date_time\"]) &(url[\"user_id\"]== table[\"user_id\"]) &(url[\"session_id\"] == table[\"session_id\"]) &(url[\"browser_id\"]==table[\"browser_id\"])), \"left\")"
      ]
    },
    {
      "cell_type": "code",
      "execution_count": null,
      "metadata": {
        "colab": {
          "base_uri": "https://localhost:8080/"
        },
        "id": "LLrPBB1L3weC",
        "outputId": "0e25679f-b444-4cc5-977f-1669d14f280d"
      },
      "outputs": [
        {
          "name": "stdout",
          "output_type": "stream",
          "text": [
            "+------------+------------+--------------------+--------------------+--------------------+--------------------+--------------------+\n",
            "|Current_date|     user_id|          session_id|          browser_id|               login|     event_date_time|    current_page_url|\n",
            "+------------+------------+--------------------+--------------------+--------------------+--------------------+--------------------+\n",
            "|  2022-07-31|unregistered|5XsVn8f03aU4pQQ8R...|OV97rA995d4edUEHm...|2022-07-31 02:59:...|2022-07-31 02:59:...|https://www.gosho...|\n",
            "|  2022-07-31|unregistered|EHDMvuQhE4H41ACxt...|Cms7xSIlU0pMBTMfR...|2022-07-31 04:30:...|2022-07-31 04:30:...|https://www.gosho...|\n",
            "|  2022-07-31|unregistered|fM3e0bR1bsJaDssK3...|2N5Es6i1a1LuD4P1L...|2022-07-31 05:43:...|2022-07-31 05:43:...|https://www.gosho...|\n",
            "|  2022-07-31|unregistered|Sgutf1dUl8dtPDTlw...|0ThrrpKVyk273B97M...|2022-07-31 09:17:...|2022-07-31 09:17:...|https://www.gosho...|\n",
            "|  2022-07-31|unregistered|lKRh64hO1mAnK8bPH...|e39p9hf5aQW3ucqYs...|2022-07-31 10:39:...|2022-07-31 10:39:...|https://www.gosho...|\n",
            "|  2022-07-31|unregistered|Lv2IuSFAoabPMEFgF...|xNZcJpYguHy7NWX2e...|2022-07-31 18:36:...|2022-07-31 18:36:...|https://www.gosho...|\n",
            "|  2022-08-01|unregistered|wkJyZEAMXNKSqF4Sl...|jNhY7j8Z68RJt7Wtk...|2022-08-01 02:55:...|2022-08-01 02:55:...|https://www.gosho...|\n",
            "|  2022-08-01|unregistered|FylH6umDqwegxEUJN...|xJDnFXsAegQb7jqL3...|2022-08-01 10:34:...|2022-08-01 10:34:...|https://www.gosho...|\n",
            "|  2022-08-01|  1400001815|nGuU72gIiV07e8LOI...|3w8NUHoY3V1fwqjDq...|2022-08-01 13:40:...|2022-08-01 13:40:...|https://www.gosho...|\n",
            "|  2022-08-01|unregistered|o4hXhXOgAeu8vpuEp...|s8gWvHiFyiX4xWhw7...|2022-08-01 14:45:...|2022-08-01 14:45:...|https://www.gosho...|\n",
            "|  2022-08-01|unregistered|JHvWyxoGBFiZgHtCn...|EY3TgBfZPgY6LoEKu...|2022-08-01 17:03:...|2022-08-01 17:03:...|https://www.gosho...|\n",
            "|  2022-08-01|unregistered|L026e69ngqSq3FeyM...|h86E4D57QsRWW0B32...|2022-08-01 19:22:...|2022-08-01 19:22:...|https://www.gosho...|\n",
            "|  2022-08-01|unregistered|Ls1QmJA0OffREAhuG...|ZvZmVhOce3XZaLRKb...|2022-08-01 23:30:...|2022-08-01 23:30:...|https://www.gosho...|\n",
            "|  2022-08-02|unregistered|d7TLINzDYqpkSGPzd...|8MGnIrG3B5nZgrlyA...|2022-08-02 04:08:...|2022-08-02 04:08:...|https://www.gosho...|\n",
            "|  2022-08-02|unregistered|hxzIUHRBoGlmip8fV...|5j2Mj161EG5D0RelI...|2022-08-02 05:44:...|2022-08-02 05:44:...|https://www.gosho...|\n",
            "|  2022-08-02|unregistered|rElQ3P2wzArn39syP...|5As6U36b6is2Psh2e...|2022-08-02 07:11:...|2022-08-02 07:11:...|https://www.gosho...|\n",
            "|  2022-08-02|unregistered|fuJDNTrvf3pYhdqtr...|T5ToYc4SOedzAU232...|2022-08-02 08:37:...|2022-08-02 08:37:...|https://www.gosho...|\n",
            "|  2022-08-02|unregistered|KFvBOVNC2vq9Oec8R...|ZAkZsJKghteEeBGWO...|2022-08-02 13:20:...|2022-08-02 13:20:...|https://www.gosho...|\n",
            "|  2022-08-02|unregistered|u16aAIfnJ19CHLVo0...|gAXvSC1ojChSNOf1R...|2022-08-02 13:36:...|2022-08-02 13:36:...|https://www.gosho...|\n",
            "|  2022-08-02|unregistered|SLzXeRwJKzXQzSMub...|KddBSwENZ5d4XQdv5...|2022-08-02 22:54:...|2022-08-02 22:54:...|https://www.gosho...|\n",
            "+------------+------------+--------------------+--------------------+--------------------+--------------------+--------------------+\n",
            "only showing top 20 rows\n",
            "\n"
          ]
        }
      ],
      "source": [
        "url.show()"
      ]
    },
    {
      "cell_type": "code",
      "execution_count": null,
      "metadata": {
        "id": "9GzaiE4Dr0bi"
      },
      "outputs": [],
      "source": [
        "url = url.withColumnRenamed(\"current_page_url\", \"first_url\")"
      ]
    },
    {
      "cell_type": "code",
      "execution_count": null,
      "metadata": {
        "id": "CkvE8bxbqyNr"
      },
      "outputs": [],
      "source": [
        "table = table.join(url,((table[\"current_date\"] == url[\"current_date\"])& (table[\"user_id\"]== url[\"user_id\"])&(url[\"session_id\"]== table[\"session_id\"])&(url[\"browser_id\"]==table[\"browser_id\"])), \"left\").drop(url[\"current_date\"]).drop(url[\"user_id\"]).drop(url[\"event_date_time\"]).drop(url[\"session_id\"]).drop(url[\"browser_id\"])"
      ]
    },
    {
      "cell_type": "code",
      "execution_count": null,
      "metadata": {
        "colab": {
          "base_uri": "https://localhost:8080/"
        },
        "id": "TsAGTtTYsUqb",
        "outputId": "38ca442d-245e-4f23-8d53-af500ee5d45f"
      },
      "outputs": [
        {
          "name": "stdout",
          "output_type": "stream",
          "text": [
            "+--------------------+--------------------+----------+--------------------+------------+---------------+----------+---------+-----+--------+------------+------------+--------------------+--------------------+--------------------+--------------------+\n",
            "|    client_side_data|     event_date_time|event_type|    current_page_url|time_elapsed|login_date_time|login_date|logged_in|Click|Pageload|Current_date|     user_id|          session_id|          browser_id|               login|           first_url|\n",
            "+--------------------+--------------------+----------+--------------------+------------+---------------+----------+---------+-----+--------+------------+------------+--------------------+--------------------+--------------------+--------------------+\n",
            "|{https://www.gosh...|2022-07-31 03:08:...|  pageload|https://www.gosho...|        null|           null|      null|        0|    0|       1|  2022-07-31|unregistered|7yQ7NY80yCBoyvoWf...|fmhMaS22p4KeDjH60...|2022-07-31 03:08:...|https://www.gosho...|\n",
            "|{https://www.gosh...|2022-07-31 03:09:...|  pageload|https://www.gosho...|        null|           null|      null|        0|    0|       1|  2022-07-31|unregistered|7yQ7NY80yCBoyvoWf...|fmhMaS22p4KeDjH60...|2022-07-31 03:08:...|https://www.gosho...|\n",
            "|{https://www.gosh...|2022-07-31 03:09:...|  pageload|https://www.gosho...|        null|           null|      null|        0|    0|       1|  2022-07-31|unregistered|7yQ7NY80yCBoyvoWf...|fmhMaS22p4KeDjH60...|2022-07-31 03:08:...|https://www.gosho...|\n",
            "|{https://www.gosh...|2022-07-31 03:09:...|  pageload|https://www.gosho...|        null|           null|      null|        0|    0|       1|  2022-07-31|unregistered|7yQ7NY80yCBoyvoWf...|fmhMaS22p4KeDjH60...|2022-07-31 03:08:...|https://www.gosho...|\n",
            "|{https://www.gosh...|2022-07-31 03:09:...|  pageload|https://www.gosho...|        null|           null|      null|        0|    0|       1|  2022-07-31|unregistered|7yQ7NY80yCBoyvoWf...|fmhMaS22p4KeDjH60...|2022-07-31 03:08:...|https://www.gosho...|\n",
            "|{https://www.gosh...|2022-07-31 03:09:...|  pageload|https://www.gosho...|        null|           null|      null|        0|    0|       1|  2022-07-31|unregistered|7yQ7NY80yCBoyvoWf...|fmhMaS22p4KeDjH60...|2022-07-31 03:08:...|https://www.gosho...|\n",
            "|{https://www.gosh...|2022-07-31 03:10:...|  pageload|https://www.gosho...|        null|           null|      null|        0|    0|       1|  2022-07-31|unregistered|7yQ7NY80yCBoyvoWf...|fmhMaS22p4KeDjH60...|2022-07-31 03:08:...|https://www.gosho...|\n",
            "|{https://www.gosh...|2022-07-31 03:11:...|  pageload|https://www.gosho...|        null|           null|      null|        0|    0|       1|  2022-07-31|unregistered|7yQ7NY80yCBoyvoWf...|fmhMaS22p4KeDjH60...|2022-07-31 03:08:...|https://www.gosho...|\n",
            "|{https://www.gosh...|2022-07-31 03:13:...|  pageload|https://www.gosho...|        null|           null|      null|        0|    0|       1|  2022-07-31|unregistered|7yQ7NY80yCBoyvoWf...|fmhMaS22p4KeDjH60...|2022-07-31 03:08:...|https://www.gosho...|\n",
            "|{https://www.gosh...|2022-07-31 03:13:...|  pageload|https://www.gosho...|        null|           null|      null|        0|    0|       1|  2022-07-31|unregistered|7yQ7NY80yCBoyvoWf...|fmhMaS22p4KeDjH60...|2022-07-31 03:08:...|https://www.gosho...|\n",
            "|{https://www.gosh...|2022-07-31 03:14:...|  pageload|https://www.gosho...|        null|           null|      null|        0|    0|       1|  2022-07-31|unregistered|7yQ7NY80yCBoyvoWf...|fmhMaS22p4KeDjH60...|2022-07-31 03:08:...|https://www.gosho...|\n",
            "|{https://www.gosh...|2022-07-31 03:14:...|  pageload|https://www.gosho...|        null|           null|      null|        0|    0|       1|  2022-07-31|unregistered|7yQ7NY80yCBoyvoWf...|fmhMaS22p4KeDjH60...|2022-07-31 03:08:...|https://www.gosho...|\n",
            "|{https://www.gosh...|2022-07-31 03:17:...|  pageload|https://www.gosho...|        null|           null|      null|        0|    0|       1|  2022-07-31|unregistered|7yQ7NY80yCBoyvoWf...|fmhMaS22p4KeDjH60...|2022-07-31 03:08:...|https://www.gosho...|\n",
            "|{https://www.gosh...|2022-07-31 03:20:...|  pageload|https://www.gosho...|        null|           null|      null|        0|    0|       1|  2022-07-31|unregistered|7yQ7NY80yCBoyvoWf...|fmhMaS22p4KeDjH60...|2022-07-31 03:08:...|https://www.gosho...|\n",
            "|{https://www.gosh...|2022-07-31 03:20:...|  pageload|https://www.gosho...|        null|           null|      null|        0|    0|       1|  2022-07-31|unregistered|7yQ7NY80yCBoyvoWf...|fmhMaS22p4KeDjH60...|2022-07-31 03:08:...|https://www.gosho...|\n",
            "|{https://www.gosh...|2022-07-31 03:23:...|  pageload|https://www.gosho...|        null|           null|      null|        0|    0|       1|  2022-07-31|unregistered|7yQ7NY80yCBoyvoWf...|fmhMaS22p4KeDjH60...|2022-07-31 03:08:...|https://www.gosho...|\n",
            "|{https://www.gosh...|2022-07-31 03:23:...|  pageload|https://www.gosho...|        null|           null|      null|        0|    0|       1|  2022-07-31|unregistered|7yQ7NY80yCBoyvoWf...|fmhMaS22p4KeDjH60...|2022-07-31 03:08:...|https://www.gosho...|\n",
            "|{https://www.gosh...|2022-07-31 03:23:...|  pageload|https://www.gosho...|        null|           null|      null|        0|    0|       1|  2022-07-31|unregistered|7yQ7NY80yCBoyvoWf...|fmhMaS22p4KeDjH60...|2022-07-31 03:08:...|https://www.gosho...|\n",
            "|{https://www.gosh...|2022-08-02 08:41:...|  pageload|https://www.gosho...|        null|           null|      null|        0|    0|       1|  2022-08-02|unregistered|BXaHGXYlHJjVcyx49...|np1VSCs0e0h5utWYw...|2022-08-02 08:41:...|https://www.gosho...|\n",
            "|{https://www.gosh...|2022-08-02 05:49:...|  pageload|https://www.gosho...|        null|           null|      null|        0|    0|       1|  2022-08-02|unregistered|HSCp4uJWTSUt8whLn...|ulFDwWtfUxBWu9TKE...|2022-08-02 05:49:...|https://www.gosho...|\n",
            "+--------------------+--------------------+----------+--------------------+------------+---------------+----------+---------+-----+--------+------------+------------+--------------------+--------------------+--------------------+--------------------+\n",
            "only showing top 20 rows\n",
            "\n"
          ]
        }
      ],
      "source": [
        "table.show()"
      ]
    },
    {
      "cell_type": "code",
      "execution_count": null,
      "metadata": {
        "id": "z296aeBWhANL"
      },
      "outputs": [],
      "source": [
        "grouped = table.groupBy(\"current_date\",\"browser_id\",\"user_id\",\"logged_in\",\"first_url\").agg(sum(table[\"Click\"]).alias(\"number_of_clicks\"), sum(table[\"Pageload\"]).alias(\"number_of_pageloads\"))"
      ]
    },
    {
      "cell_type": "code",
      "execution_count": null,
      "metadata": {
        "colab": {
          "base_uri": "https://localhost:8080/"
        },
        "id": "VrWJPXGldz_9",
        "outputId": "f426b987-2e8c-49d6-9845-97c2787bc3a9"
      },
      "outputs": [
        {
          "name": "stdout",
          "output_type": "stream",
          "text": [
            "root\n",
            " |-- current_date: date (nullable = true)\n",
            " |-- browser_id: string (nullable = true)\n",
            " |-- user_id: string (nullable = true)\n",
            " |-- logged_in: integer (nullable = false)\n",
            " |-- first_url: string (nullable = true)\n",
            " |-- number_of_clicks: long (nullable = true)\n",
            " |-- number_of_pageloads: long (nullable = true)\n",
            "\n"
          ]
        }
      ],
      "source": [
        "grouped.printSchema()"
      ]
    },
    {
      "cell_type": "code",
      "execution_count": null,
      "metadata": {
        "id": "2YpdpApDgHOK"
      },
      "outputs": [],
      "source": [
        "grouped = grouped.withColumn(\"current_date\", col(\"current_date\").cast(StringType())).withColumn(\"logged_in\", col(\"logged_in\").cast(StringType())).withColumn(\"number_of_clicks\",col(\"number_of_clicks\").cast(StringType())).withColumn(\"number_of_pageloads\", col(\"number_of_pageloads\").cast(StringType()))"
      ]
    },
    {
      "cell_type": "code",
      "execution_count": null,
      "metadata": {
        "colab": {
          "base_uri": "https://localhost:8080/",
          "height": 328
        },
        "id": "3hCZuwev1zbo",
        "outputId": "c572b8df-a44e-40b5-9e62-1119ccc9c539"
      },
      "outputs": [
        {
          "ename": "AnalysisException",
          "evalue": "ignored",
          "output_type": "error",
          "traceback": [
            "\u001b[0;31m---------------------------------------------------------------------------\u001b[0m",
            "\u001b[0;31mAnalysisException\u001b[0m                         Traceback (most recent call last)",
            "\u001b[0;32m<ipython-input-53-62f71e818a69>\u001b[0m in \u001b[0;36m<module>\u001b[0;34m\u001b[0m\n\u001b[0;32m----> 1\u001b[0;31m \u001b[0mgrouped\u001b[0m \u001b[0;34m=\u001b[0m \u001b[0mgrouped\u001b[0m\u001b[0;34m.\u001b[0m\u001b[0mfilter\u001b[0m\u001b[0;34m(\u001b[0m\u001b[0mgrouped\u001b[0m\u001b[0;34m[\u001b[0m\u001b[0;34m\"numbers_of_clicks\"\u001b[0m\u001b[0;34m]\u001b[0m \u001b[0;34m>\u001b[0m \u001b[0;36m0\u001b[0m\u001b[0;34m)\u001b[0m\u001b[0;34m\u001b[0m\u001b[0;34m\u001b[0m\u001b[0m\n\u001b[0m",
            "\u001b[0;32m/usr/local/lib/python3.7/dist-packages/pyspark/sql/dataframe.py\u001b[0m in \u001b[0;36m__getitem__\u001b[0;34m(self, item)\u001b[0m\n\u001b[1;32m   1963\u001b[0m         \"\"\"\n\u001b[1;32m   1964\u001b[0m         \u001b[0;32mif\u001b[0m \u001b[0misinstance\u001b[0m\u001b[0;34m(\u001b[0m\u001b[0mitem\u001b[0m\u001b[0;34m,\u001b[0m \u001b[0mstr\u001b[0m\u001b[0;34m)\u001b[0m\u001b[0;34m:\u001b[0m\u001b[0;34m\u001b[0m\u001b[0;34m\u001b[0m\u001b[0m\n\u001b[0;32m-> 1965\u001b[0;31m             \u001b[0mjc\u001b[0m \u001b[0;34m=\u001b[0m \u001b[0mself\u001b[0m\u001b[0;34m.\u001b[0m\u001b[0m_jdf\u001b[0m\u001b[0;34m.\u001b[0m\u001b[0mapply\u001b[0m\u001b[0;34m(\u001b[0m\u001b[0mitem\u001b[0m\u001b[0;34m)\u001b[0m\u001b[0;34m\u001b[0m\u001b[0;34m\u001b[0m\u001b[0m\n\u001b[0m\u001b[1;32m   1966\u001b[0m             \u001b[0;32mreturn\u001b[0m \u001b[0mColumn\u001b[0m\u001b[0;34m(\u001b[0m\u001b[0mjc\u001b[0m\u001b[0;34m)\u001b[0m\u001b[0;34m\u001b[0m\u001b[0;34m\u001b[0m\u001b[0m\n\u001b[1;32m   1967\u001b[0m         \u001b[0;32melif\u001b[0m \u001b[0misinstance\u001b[0m\u001b[0;34m(\u001b[0m\u001b[0mitem\u001b[0m\u001b[0;34m,\u001b[0m \u001b[0mColumn\u001b[0m\u001b[0;34m)\u001b[0m\u001b[0;34m:\u001b[0m\u001b[0;34m\u001b[0m\u001b[0;34m\u001b[0m\u001b[0m\n",
            "\u001b[0;32m/usr/local/lib/python3.7/dist-packages/py4j/java_gateway.py\u001b[0m in \u001b[0;36m__call__\u001b[0;34m(self, *args)\u001b[0m\n\u001b[1;32m   1320\u001b[0m         \u001b[0manswer\u001b[0m \u001b[0;34m=\u001b[0m \u001b[0mself\u001b[0m\u001b[0;34m.\u001b[0m\u001b[0mgateway_client\u001b[0m\u001b[0;34m.\u001b[0m\u001b[0msend_command\u001b[0m\u001b[0;34m(\u001b[0m\u001b[0mcommand\u001b[0m\u001b[0;34m)\u001b[0m\u001b[0;34m\u001b[0m\u001b[0;34m\u001b[0m\u001b[0m\n\u001b[1;32m   1321\u001b[0m         return_value = get_return_value(\n\u001b[0;32m-> 1322\u001b[0;31m             answer, self.gateway_client, self.target_id, self.name)\n\u001b[0m\u001b[1;32m   1323\u001b[0m \u001b[0;34m\u001b[0m\u001b[0m\n\u001b[1;32m   1324\u001b[0m         \u001b[0;32mfor\u001b[0m \u001b[0mtemp_arg\u001b[0m \u001b[0;32min\u001b[0m \u001b[0mtemp_args\u001b[0m\u001b[0;34m:\u001b[0m\u001b[0;34m\u001b[0m\u001b[0;34m\u001b[0m\u001b[0m\n",
            "\u001b[0;32m/usr/local/lib/python3.7/dist-packages/pyspark/sql/utils.py\u001b[0m in \u001b[0;36mdeco\u001b[0;34m(*a, **kw)\u001b[0m\n\u001b[1;32m    194\u001b[0m                 \u001b[0;31m# Hide where the exception came from that shows a non-Pythonic\u001b[0m\u001b[0;34m\u001b[0m\u001b[0;34m\u001b[0m\u001b[0;34m\u001b[0m\u001b[0m\n\u001b[1;32m    195\u001b[0m                 \u001b[0;31m# JVM exception message.\u001b[0m\u001b[0;34m\u001b[0m\u001b[0;34m\u001b[0m\u001b[0;34m\u001b[0m\u001b[0m\n\u001b[0;32m--> 196\u001b[0;31m                 \u001b[0;32mraise\u001b[0m \u001b[0mconverted\u001b[0m \u001b[0;32mfrom\u001b[0m \u001b[0;32mNone\u001b[0m\u001b[0;34m\u001b[0m\u001b[0;34m\u001b[0m\u001b[0m\n\u001b[0m\u001b[1;32m    197\u001b[0m             \u001b[0;32melse\u001b[0m\u001b[0;34m:\u001b[0m\u001b[0;34m\u001b[0m\u001b[0;34m\u001b[0m\u001b[0m\n\u001b[1;32m    198\u001b[0m                 \u001b[0;32mraise\u001b[0m\u001b[0;34m\u001b[0m\u001b[0;34m\u001b[0m\u001b[0m\n",
            "\u001b[0;31mAnalysisException\u001b[0m: Cannot resolve column name \"numbers_of_clicks\" among (current_date, browser_id, user_id, logged_in, first_url, number_of_clicks, number_of_pageloads)"
          ]
        }
      ],
      "source": [
        "grouped = grouped.filter(grouped[\"numbers_of_clicks\"] > 0)"
      ]
    },
    {
      "cell_type": "code",
      "execution_count": null,
      "metadata": {
        "id": "VziM1uGulSKD"
      },
      "outputs": [],
      "source": [
        "grouped.count()"
      ]
    },
    {
      "cell_type": "code",
      "execution_count": null,
      "metadata": {
        "id": "P9IVYVgkv6hr"
      },
      "outputs": [],
      "source": [
        "grouped = grouped.join(url, ((url[\"Current_date\"] == grouped[\"Current_date\"]) & (url[\"user_id\"] == grouped[\"user_id\"])), \"left\").drop(url[\"Current_date\"]).drop(url[\"login\"]).drop(url[\"event_date_time\"]).drop(url[\"user_id\"])"
      ]
    },
    {
      "cell_type": "code",
      "execution_count": null,
      "metadata": {
        "id": "Fs2mq6D3irIw"
      },
      "outputs": [],
      "source": [
        "grouped.count()"
      ]
    },
    {
      "cell_type": "code",
      "execution_count": null,
      "metadata": {
        "id": "_SaBE_BVoF4O"
      },
      "outputs": [],
      "source": [
        "grouped.show()"
      ]
    },
    {
      "cell_type": "code",
      "execution_count": null,
      "metadata": {
        "id": "jVMtEbEB44Z_"
      },
      "outputs": [],
      "source": [
        "grouped.select(\"Current_date\", \"browser_id\", \"user_id\", \"Login\", \"current_page_url\").show()"
      ]
    },
    {
      "cell_type": "code",
      "execution_count": null,
      "metadata": {
        "id": "iIs5QfJz5H3b"
      },
      "outputs": [],
      "source": []
    }
  ],
  "metadata": {
    "accelerator": "GPU",
    "colab": {
      "collapsed_sections": [],
      "provenance": []
    },
    "kernelspec": {
      "display_name": "Python 3.9.7 64-bit",
      "language": "python",
      "name": "python3"
    },
    "language_info": {
      "codemirror_mode": {
        "name": "ipython",
        "version": 3
      },
      "file_extension": ".py",
      "mimetype": "text/x-python",
      "name": "python",
      "nbconvert_exporter": "python",
      "pygments_lexer": "ipython3",
      "version": "3.9.7"
    },
    "vscode": {
      "interpreter": {
        "hash": "11938c6bc6919ae2720b4d5011047913343b08a43b18698fd82dedb0d4417594"
      }
    }
  },
  "nbformat": 4,
  "nbformat_minor": 0
}
